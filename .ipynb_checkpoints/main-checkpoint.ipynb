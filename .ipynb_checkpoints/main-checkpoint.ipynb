{
 "cells": [
  {
   "cell_type": "markdown",
   "id": "266b99c5",
   "metadata": {},
   "source": [
    "# Plant disease classification (CNN) "
   ]
  },
  {
   "cell_type": "markdown",
   "id": "7c4da4a5",
   "metadata": {},
   "source": [
    "### Summary "
   ]
  },
  {
   "cell_type": "markdown",
   "id": "b03a03ab",
   "metadata": {},
   "source": [
    "This notebook shows how plant diseases can be classified by leveraging Convolutional Neural Network (CNN). To achieve a high level of accuracy, we will use transfer learning and hyperparameters tuning techniques.<br><br>\n",
    "Data source: https://www.kaggle.com/rashikrahmanpritom/plant-disease-recognition-dataset"
   ]
  },
  {
   "cell_type": "markdown",
   "id": "c591f16d",
   "metadata": {},
   "source": [
    "### Problem statement "
   ]
  },
  {
   "cell_type": "markdown",
   "id": "30f96c60",
   "metadata": {},
   "source": [
    "We would like to build a CNN to classify plant images as follow:\n",
    "\n",
    "<b>1. Healthy</b><br>No disease.<img\n",
    "                                     src=\"./data/train/Healthy/8bc2979962db6549.jpg\"\n",
    "                                     style=\"max-height: 200px; display: block; margin: 5px 0 0 0\"><br>\n",
    "\n",
    "<b>2. Powdery</b><br>Fungus identified by light grey or white powdery spots on the leaves.<img                                                                  src=\"./data/train/Powdery/8a2d598f2ec436e6.jpg\"\n",
    "                                     style=\"max-height: 200px; display: block; margin: 5px 0 0 0\"><br>\n",
    "<b>3. Rust</b><br>Fungus identified by rust spots on the leaves.<img\n",
    "                                     src=\"./data/train/Rust/8a954b82bf81f2bc.jpg\"\n",
    "                                     style=\"max-height: 200px; display: block; margin: 5px 0 0 0\"><br>"
   ]
  },
  {
   "cell_type": "markdown",
   "id": "af946277",
   "metadata": {},
   "source": [
    "### Imports "
   ]
  },
  {
   "cell_type": "code",
   "execution_count": 1,
   "id": "bf25b98a",
   "metadata": {},
   "outputs": [],
   "source": [
    "import tensorflow as tf\n",
    "import tensorflow_hub as hub\n",
    "import numpy as np\n",
    "import matplotlib.pyplot as plt\n",
    "import keras_tuner as kt"
   ]
  },
  {
   "cell_type": "markdown",
   "id": "e1413db6",
   "metadata": {},
   "source": [
    "### Load data "
   ]
  },
  {
   "cell_type": "markdown",
   "id": "a6ceb7d1",
   "metadata": {},
   "source": [
    "Here we use the `ImageDataGenerator` class to augment the data later. This presents three main advantages:\n",
    "1. Let Keras handle the preprocessing (i.e. code free)\n",
    "2. Prevent overfitting by providing a wide variety of images per variable to our model\n",
    "3. Augment data directly in RAM, without writing new images on disk\n",
    "\n",
    "Notes:\n",
    "* Images are already stored in `[train, test, validation]` and `[healthy, powdery, rust]` directories to use the `flow_from_directory` method\n",
    "* We a different data generator for train and test data since we don't want to augment the test data (instead we just rescale the images)\n",
    "* The `IM_SIZE` is set to `(224, 224)` in order to match the expected input of the pre-trained model that we will use later"
   ]
  },
  {
   "cell_type": "code",
   "execution_count": 2,
   "id": "d8594c4c",
   "metadata": {},
   "outputs": [
    {
     "name": "stdout",
     "output_type": "stream",
     "text": [
      "Found 1322 images belonging to 3 classes.\n",
      "Found 150 images belonging to 3 classes.\n",
      "Found 60 images belonging to 3 classes.\n"
     ]
    }
   ],
   "source": [
    "# Hyperparams\n",
    "IM_SIZE = (224, 224)\n",
    "BATCH_SIZE = 32\n",
    "\n",
    "# Data augmentation settings\n",
    "train_datagen = tf.keras.preprocessing.image.ImageDataGenerator(\n",
    "    rescale=1./255.,\n",
    "    rotation_range=40,\n",
    "    shear_range=0.2,\n",
    "    zoom_range=0.2,\n",
    "    fill_mode='nearest',\n",
    "    horizontal_flip=True,\n",
    "    vertical_flip=True)\n",
    "\n",
    "test_datagen = tf.keras.preprocessing.image.ImageDataGenerator(rescale=1./255)\n",
    "\n",
    "# Train dataset (1322 images)\n",
    "train = train_datagen.flow_from_directory(\n",
    "    directory='./data/train/',\n",
    "    target_size=IM_SIZE,\n",
    "    batch_size=BATCH_SIZE)\n",
    "\n",
    "# Test dataset (150 images)\n",
    "test = test_datagen.flow_from_directory(\n",
    "    directory='./data/test/',\n",
    "    target_size=IM_SIZE,\n",
    "    batch_size=BATCH_SIZE)\n",
    "\n",
    "# Validation dataset (60 images)\n",
    "val = test_datagen.flow_from_directory(\n",
    "    directory='./data/validation/',\n",
    "    target_size=IM_SIZE,\n",
    "    batch_size=BATCH_SIZE)"
   ]
  },
  {
   "cell_type": "markdown",
   "id": "db35890c",
   "metadata": {},
   "source": [
    "### Build model (generator)"
   ]
  },
  {
   "cell_type": "markdown",
   "id": "05d39989",
   "metadata": {},
   "source": [
    "#### Transfer learning\n",
    "We will use the `mobilenet_v2` pre-trained model to help us extract key features from our plant images. This model has been trained on the ImageNet dataset. To learn more about this model, see the <a href=\"https://tfhub.dev/google/tf2-preview/mobilenet_v2/classification/4\">Tensorflow Hub model page</a>.\n",
    "\n",
    "\n",
    "#### Hyperparameters tuning\n",
    "By pre-defining a model generator and hyperparameter options (e.g. learning rate, number of units in a layer), the `keras_tuner` can use them to converge torward an ideal model."
   ]
  },
  {
   "cell_type": "code",
   "execution_count": 3,
   "id": "6e5c8c6d",
   "metadata": {},
   "outputs": [],
   "source": [
    "def model_builder(hp):\n",
    "    \n",
    "    # HP options\n",
    "    HP_N_LAYERS = hp.Int('n_layers', 1, 3)\n",
    "    HP_N_UNITS = hp.Int('n_units', min_value=32, max_value=640, step=32)\n",
    "    HP_DROPOUT_RATIO = hp.Float('dropout_ratio', min_value=0.1, max_value=0.5, step=0.1)\n",
    "    HP_LR = hp.Choice(\"learning_rate\", values=[1e-3, 1e-4])\n",
    "\n",
    "    # Pre-trained model URL\n",
    "    feature_extractor_model = \"https://tfhub.dev/google/tf2-preview/mobilenet_v2/feature_vector/4\"\n",
    "    \n",
    "    # Build model\n",
    "    model = tf.keras.models.Sequential()\n",
    "    model.add(hub.KerasLayer(\n",
    "            feature_extractor_model, input_shape=train.image_shape, trainable=False))\n",
    "    for i in range(HP_N_LAYERS):\n",
    "        model.add(tf.keras.layers.Dropout(HP_DROPOUT_RATIO))\n",
    "        model.add(tf.keras.layers.Dense(HP_N_UNITS, activation='relu'))\n",
    "    model.add(tf.keras.layers.Dense(3, activation='sigmoid'))\n",
    "\n",
    "    # Compile model\n",
    "    model.compile(optimizer=tf.keras.optimizers.Adam(HP_LR),\n",
    "                  loss='categorical_crossentropy',\n",
    "                  metrics=['accuracy'])\n",
    "    \n",
    "    return model"
   ]
  },
  {
   "cell_type": "markdown",
   "id": "b9147165",
   "metadata": {},
   "source": [
    "### Hyperparameters tuning"
   ]
  },
  {
   "cell_type": "markdown",
   "id": "19139619",
   "metadata": {},
   "source": [
    "Hyperparameters tuning can take days of processing time if we're not careful about the number of options per hyperparam or how well we're running the hardware. \n",
    "\n",
    "#### Early stop\n",
    "Let's not waste time if the `val_accuracy` does not improve over 3 epochs by specifying an early stop matching this condition.\n",
    "\n",
    "#### Faster training\n",
    "Tensorflow will use the GPU to train the model (a GTX 1070 with 8Go of VRAM). However, the data augmentation process well be done on the fly by the CPU. So in this specific case, we need to use more workers to augment the data quick enough. Otherwise, CUDA's capabilities will be underutilized due to a slow data augmentation process."
   ]
  },
  {
   "cell_type": "code",
   "execution_count": 4,
   "id": "76b7ff11",
   "metadata": {},
   "outputs": [
    {
     "name": "stdout",
     "output_type": "stream",
     "text": [
      "Trial 90 Complete [00h 02m 27s]\n",
      "val_accuracy: 0.9733333587646484\n",
      "\n",
      "Best val_accuracy So Far: 0.9800000190734863\n",
      "Total elapsed time: 02h 19m 38s\n",
      "INFO:tensorflow:Oracle triggered exit\n"
     ]
    },
    {
     "name": "stderr",
     "output_type": "stream",
     "text": [
      "INFO:tensorflow:Oracle triggered exit\n"
     ]
    }
   ],
   "source": [
    "stop_early = tf.keras.callbacks.EarlyStopping(monitor='val_loss', patience=3)\n",
    "\n",
    "tuner = kt.Hyperband(model_builder,\n",
    "                     objective='val_accuracy',\n",
    "                     max_epochs=30,\n",
    "                     directory='./tuner/',\n",
    "                     project_name='CNN1',\n",
    "                     overwrite=False)\n",
    "\n",
    "# Start training / HP search\n",
    "tuner.search(train,\n",
    "             validation_data=test,\n",
    "             epochs=30,\n",
    "             callbacks=[stop_early], # if no improvement after 3 epochs\n",
    "             use_multiprocessing=False, # avoid processes to work on the same img (error)\n",
    "             workers=6) # accelerate data augmentation process on CPU"
   ]
  },
  {
   "cell_type": "markdown",
   "id": "326b58b4",
   "metadata": {},
   "source": [
    "Now we can get the best model and train it: "
   ]
  },
  {
   "cell_type": "code",
   "execution_count": 6,
   "id": "b337ee1c",
   "metadata": {},
   "outputs": [
    {
     "name": "stdout",
     "output_type": "stream",
     "text": [
      "Model: \"sequential\"\n",
      "_________________________________________________________________\n",
      "Layer (type)                 Output Shape              Param #   \n",
      "=================================================================\n",
      "keras_layer (KerasLayer)     (None, 1280)              2257984   \n",
      "_________________________________________________________________\n",
      "dropout (Dropout)            (None, 1280)              0         \n",
      "_________________________________________________________________\n",
      "dense (Dense)                (None, 544)               696864    \n",
      "_________________________________________________________________\n",
      "dense_1 (Dense)              (None, 3)                 1635      \n",
      "=================================================================\n",
      "Total params: 2,956,483\n",
      "Trainable params: 698,499\n",
      "Non-trainable params: 2,257,984\n",
      "_________________________________________________________________\n"
     ]
    }
   ],
   "source": [
    "best_hps = tuner.get_best_hyperparameters()[0]\n",
    "model = tuner.hypermodel.build(best_hps)\n",
    "model.summary()"
   ]
  },
  {
   "cell_type": "code",
   "execution_count": 7,
   "id": "70c42eb6",
   "metadata": {
    "scrolled": true
   },
   "outputs": [
    {
     "name": "stdout",
     "output_type": "stream",
     "text": [
      "Epoch 1/50\n",
      "41/41 [==============================] - 22s 437ms/step - loss: 0.4634 - accuracy: 0.8302 - val_loss: 0.2178 - val_accuracy: 0.9688\n",
      "Epoch 2/50\n",
      "41/41 [==============================] - 18s 398ms/step - loss: 0.1266 - accuracy: 0.9574 - val_loss: 0.1468 - val_accuracy: 0.9688\n",
      "Epoch 3/50\n",
      "41/41 [==============================] - 19s 410ms/step - loss: 0.1049 - accuracy: 0.9682 - val_loss: 0.1562 - val_accuracy: 0.9688\n",
      "Epoch 4/50\n",
      "41/41 [==============================] - 18s 396ms/step - loss: 0.0754 - accuracy: 0.9783 - val_loss: 0.1685 - val_accuracy: 0.9688\n",
      "Epoch 5/50\n",
      "41/41 [==============================] - 18s 392ms/step - loss: 0.1105 - accuracy: 0.9667 - val_loss: 0.1976 - val_accuracy: 0.9375\n",
      "Epoch 6/50\n",
      "41/41 [==============================] - 18s 392ms/step - loss: 0.1083 - accuracy: 0.9589 - val_loss: 0.1559 - val_accuracy: 0.9609\n",
      "Epoch 7/50\n",
      "41/41 [==============================] - 18s 395ms/step - loss: 0.0613 - accuracy: 0.9822 - val_loss: 0.1808 - val_accuracy: 0.9688\n",
      "Epoch 8/50\n",
      "41/41 [==============================] - 20s 440ms/step - loss: 0.0913 - accuracy: 0.9705 - val_loss: 0.2155 - val_accuracy: 0.9609\n",
      "Epoch 9/50\n",
      "41/41 [==============================] - 19s 419ms/step - loss: 0.0853 - accuracy: 0.9651 - val_loss: 0.1504 - val_accuracy: 0.9688\n",
      "Epoch 10/50\n",
      "41/41 [==============================] - 19s 412ms/step - loss: 0.1081 - accuracy: 0.9643 - val_loss: 0.2227 - val_accuracy: 0.9531\n",
      "Epoch 11/50\n",
      "41/41 [==============================] - 19s 412ms/step - loss: 0.0794 - accuracy: 0.9713 - val_loss: 0.1688 - val_accuracy: 0.9688\n",
      "Epoch 12/50\n",
      "41/41 [==============================] - 19s 417ms/step - loss: 0.0702 - accuracy: 0.9760 - val_loss: 0.2028 - val_accuracy: 0.9453\n",
      "Epoch 13/50\n",
      "41/41 [==============================] - 19s 453ms/step - loss: 0.0855 - accuracy: 0.9760 - val_loss: 0.1756 - val_accuracy: 0.9609\n",
      "Epoch 14/50\n",
      "41/41 [==============================] - 19s 419ms/step - loss: 0.0601 - accuracy: 0.9791 - val_loss: 0.1876 - val_accuracy: 0.9531\n",
      "Epoch 15/50\n",
      "41/41 [==============================] - 19s 417ms/step - loss: 0.0750 - accuracy: 0.9783 - val_loss: 0.1634 - val_accuracy: 0.9609\n",
      "Epoch 16/50\n",
      "41/41 [==============================] - 19s 414ms/step - loss: 0.0681 - accuracy: 0.9775 - val_loss: 0.2217 - val_accuracy: 0.9531\n",
      "Epoch 17/50\n",
      "41/41 [==============================] - 19s 415ms/step - loss: 0.0879 - accuracy: 0.9690 - val_loss: 0.1837 - val_accuracy: 0.9531\n",
      "Epoch 18/50\n",
      "41/41 [==============================] - 20s 439ms/step - loss: 0.0655 - accuracy: 0.9744 - val_loss: 0.2368 - val_accuracy: 0.9453\n",
      "Epoch 19/50\n",
      "41/41 [==============================] - 19s 416ms/step - loss: 0.0729 - accuracy: 0.9729 - val_loss: 0.2404 - val_accuracy: 0.9531\n",
      "Epoch 20/50\n",
      "41/41 [==============================] - 19s 416ms/step - loss: 0.0535 - accuracy: 0.9845 - val_loss: 0.1385 - val_accuracy: 0.9609\n",
      "Epoch 21/50\n",
      "41/41 [==============================] - 20s 437ms/step - loss: 0.0419 - accuracy: 0.9853 - val_loss: 0.3361 - val_accuracy: 0.9531\n",
      "Epoch 22/50\n",
      "41/41 [==============================] - 20s 442ms/step - loss: 0.0658 - accuracy: 0.9744 - val_loss: 0.2363 - val_accuracy: 0.9688\n",
      "Epoch 23/50\n",
      "41/41 [==============================] - 20s 430ms/step - loss: 0.0589 - accuracy: 0.9760 - val_loss: 0.1443 - val_accuracy: 0.9531\n",
      "Epoch 24/50\n",
      "41/41 [==============================] - 19s 417ms/step - loss: 0.0780 - accuracy: 0.9721 - val_loss: 0.1402 - val_accuracy: 0.9609\n",
      "Epoch 25/50\n",
      "41/41 [==============================] - 19s 411ms/step - loss: 0.0619 - accuracy: 0.9791 - val_loss: 0.1870 - val_accuracy: 0.9688\n",
      "Epoch 26/50\n",
      "41/41 [==============================] - 19s 406ms/step - loss: 0.0660 - accuracy: 0.9814 - val_loss: 0.1690 - val_accuracy: 0.9766\n",
      "Epoch 27/50\n",
      "41/41 [==============================] - 19s 412ms/step - loss: 0.0531 - accuracy: 0.9822 - val_loss: 0.2065 - val_accuracy: 0.9453\n",
      "Epoch 28/50\n",
      "41/41 [==============================] - 19s 417ms/step - loss: 0.0447 - accuracy: 0.9853 - val_loss: 0.2201 - val_accuracy: 0.9609\n",
      "Epoch 29/50\n",
      "41/41 [==============================] - 19s 416ms/step - loss: 0.0348 - accuracy: 0.9845 - val_loss: 0.2195 - val_accuracy: 0.9453\n",
      "Epoch 30/50\n",
      "41/41 [==============================] - 19s 419ms/step - loss: 0.0513 - accuracy: 0.9806 - val_loss: 0.1868 - val_accuracy: 0.9688\n",
      "Epoch 31/50\n",
      "41/41 [==============================] - 19s 417ms/step - loss: 0.0457 - accuracy: 0.9837 - val_loss: 0.2181 - val_accuracy: 0.9531\n",
      "Epoch 32/50\n",
      "41/41 [==============================] - 19s 417ms/step - loss: 0.0534 - accuracy: 0.9744 - val_loss: 0.3170 - val_accuracy: 0.9297\n",
      "Epoch 33/50\n",
      "41/41 [==============================] - 19s 417ms/step - loss: 0.0479 - accuracy: 0.9806 - val_loss: 0.2228 - val_accuracy: 0.9609\n",
      "Epoch 34/50\n",
      "41/41 [==============================] - 20s 428ms/step - loss: 0.0678 - accuracy: 0.9814 - val_loss: 0.1125 - val_accuracy: 0.9766\n",
      "Epoch 35/50\n",
      "41/41 [==============================] - 19s 414ms/step - loss: 0.0413 - accuracy: 0.9868 - val_loss: 0.1915 - val_accuracy: 0.9609\n",
      "Epoch 36/50\n",
      "41/41 [==============================] - 19s 424ms/step - loss: 0.0336 - accuracy: 0.9860 - val_loss: 0.2117 - val_accuracy: 0.9688\n",
      "Epoch 37/50\n",
      "41/41 [==============================] - 21s 447ms/step - loss: 0.0709 - accuracy: 0.9736 - val_loss: 0.1928 - val_accuracy: 0.9531\n",
      "Epoch 38/50\n",
      "41/41 [==============================] - 20s 438ms/step - loss: 0.0449 - accuracy: 0.9845 - val_loss: 0.1152 - val_accuracy: 0.9766\n",
      "Epoch 39/50\n",
      "41/41 [==============================] - 20s 429ms/step - loss: 0.0427 - accuracy: 0.9860 - val_loss: 0.1800 - val_accuracy: 0.9531\n",
      "Epoch 40/50\n",
      "41/41 [==============================] - 20s 475ms/step - loss: 0.0524 - accuracy: 0.9814 - val_loss: 0.0849 - val_accuracy: 0.9766\n",
      "Epoch 41/50\n",
      "41/41 [==============================] - 19s 417ms/step - loss: 0.0359 - accuracy: 0.9891 - val_loss: 0.1571 - val_accuracy: 0.9766\n",
      "Epoch 42/50\n",
      "41/41 [==============================] - 19s 410ms/step - loss: 0.0345 - accuracy: 0.9891 - val_loss: 0.1798 - val_accuracy: 0.9766\n",
      "Epoch 43/50\n",
      "41/41 [==============================] - 19s 412ms/step - loss: 0.0345 - accuracy: 0.9884 - val_loss: 0.1978 - val_accuracy: 0.9609\n",
      "Epoch 44/50\n",
      "41/41 [==============================] - 19s 415ms/step - loss: 0.0430 - accuracy: 0.9853 - val_loss: 0.1118 - val_accuracy: 0.9766\n",
      "Epoch 45/50\n",
      "41/41 [==============================] - 19s 420ms/step - loss: 0.0453 - accuracy: 0.9860 - val_loss: 0.1434 - val_accuracy: 0.9688\n",
      "Epoch 46/50\n",
      "41/41 [==============================] - 19s 420ms/step - loss: 0.0435 - accuracy: 0.9876 - val_loss: 0.2117 - val_accuracy: 0.9688\n",
      "Epoch 47/50\n",
      "41/41 [==============================] - 19s 418ms/step - loss: 0.0267 - accuracy: 0.9907 - val_loss: 0.2579 - val_accuracy: 0.9688\n",
      "Epoch 48/50\n",
      "41/41 [==============================] - 20s 432ms/step - loss: 0.0615 - accuracy: 0.9791 - val_loss: 0.1567 - val_accuracy: 0.9688\n",
      "Epoch 49/50\n",
      "41/41 [==============================] - 19s 416ms/step - loss: 0.0342 - accuracy: 0.9884 - val_loss: 0.1613 - val_accuracy: 0.9688\n",
      "Epoch 50/50\n",
      "41/41 [==============================] - 19s 419ms/step - loss: 0.0359 - accuracy: 0.9891 - val_loss: 0.1057 - val_accuracy: 0.9844\n"
     ]
    }
   ],
   "source": [
    "history = model.fit(train,\n",
    "                    validation_data=test,\n",
    "                    steps_per_epoch=(train.n // train.batch_size),\n",
    "                    epochs=50,\n",
    "                    workers=6,\n",
    "                    validation_steps=(test.n // test.batch_size)) "
   ]
  },
  {
   "cell_type": "markdown",
   "id": "2720bc4b",
   "metadata": {},
   "source": [
    "### Evaluate model"
   ]
  },
  {
   "cell_type": "markdown",
   "id": "370f1331",
   "metadata": {},
   "source": [
    "Using the evaluation dataset:"
   ]
  },
  {
   "cell_type": "code",
   "execution_count": 8,
   "id": "927072a9",
   "metadata": {},
   "outputs": [
    {
     "name": "stdout",
     "output_type": "stream",
     "text": [
      "2/2 [==============================] - 3s 2s/step - loss: 0.0503 - accuracy: 0.9667\n"
     ]
    },
    {
     "data": {
      "text/plain": [
       "{'loss': 0.05026630684733391, 'accuracy': 0.9666666388511658}"
      ]
     },
     "execution_count": 8,
     "metadata": {},
     "output_type": "execute_result"
    }
   ],
   "source": [
    "result = model.evaluate(val)\n",
    "dict(zip(model.metrics_names, result))"
   ]
  },
  {
   "cell_type": "markdown",
   "id": "1e880251",
   "metadata": {},
   "source": [
    "Checking the evolution of the metrics over time (epochs):"
   ]
  },
  {
   "cell_type": "code",
   "execution_count": 9,
   "id": "77097730",
   "metadata": {},
   "outputs": [],
   "source": [
    "def plot_graphs(history, metric):\n",
    "    plt.plot(history.history[metric])\n",
    "    plt.plot(history.history['val_' + metric])\n",
    "    plt.xlabel(\"Epochs\")\n",
    "    plt.ylabel(metric)\n",
    "    plt.legend([metric, 'val_' + metric])\n",
    "    plt.show()"
   ]
  },
  {
   "cell_type": "code",
   "execution_count": 10,
   "id": "f89a5ca1",
   "metadata": {},
   "outputs": [
    {
     "data": {
      "image/png": "[encoded data removed]",
      "text/plain": [
       "<Figure size 432x288 with 1 Axes>"
      ]
     },
     "metadata": {
      "needs_background": "light"
     },
     "output_type": "display_data"
    },
    {
     "data": {
      "image/png": "[encoded data removed]",
      "text/plain": [
       "<Figure size 432x288 with 1 Axes>"
      ]
     },
     "metadata": {
      "needs_background": "light"
     },
     "output_type": "display_data"
    }
   ],
   "source": [
    "plot_graphs(history, 'accuracy')\n",
    "plot_graphs(history, 'loss')"
   ]
  },
  {
   "cell_type": "markdown",
   "id": "258a0a64",
   "metadata": {},
   "source": [
    "* `val_loss` is too high\n",
    "* `val_accuracy` is too volatile\n",
    "\n",
    "=> TODO: give a greater variety of data to the model"
   ]
  }
 ],
 "metadata": {
  "kernelspec": {
   "display_name": "Python 3 (ipykernel)",
   "language": "python",
   "name": "python3"
  },
  "language_info": {
   "codemirror_mode": {
    "name": "ipython",
    "version": 3
   },
   "file_extension": ".py",
   "mimetype": "text/x-python",
   "name": "python",
   "nbconvert_exporter": "python",
   "pygments_lexer": "ipython3",
   "version": "3.9.6"
  }
 },
 "nbformat": 4,
 "nbformat_minor": 5
}
